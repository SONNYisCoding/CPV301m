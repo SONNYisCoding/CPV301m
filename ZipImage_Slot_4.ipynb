{
  "nbformat": 4,
  "nbformat_minor": 0,
  "metadata": {
    "colab": {
      "provenance": []
    },
    "kernelspec": {
      "name": "python3",
      "display_name": "Python 3"
    },
    "language_info": {
      "name": "python"
    }
  },
  "cells": [
    {
      "cell_type": "code",
      "execution_count": null,
      "metadata": {
        "colab": {
          "base_uri": "https://localhost:8080/"
        },
        "id": "reewSkr-lL7_",
        "outputId": "8bc1ba0c-1611-4424-acbe-5b3f731af3e5"
      },
      "outputs": [
        {
          "output_type": "stream",
          "name": "stdout",
          "text": [
            "Requirement already satisfied: Pillow in /usr/local/lib/python3.10/dist-packages (9.4.0)\n",
            "Requirement already satisfied: scipy in /usr/local/lib/python3.10/dist-packages (1.13.1)\n",
            "Requirement already satisfied: numpy in /usr/local/lib/python3.10/dist-packages (1.26.4)\n"
          ]
        }
      ],
      "source": [
        "!pip install Pillow scipy numpy"
      ]
    },
    {
      "cell_type": "code",
      "source": [
        "import numpy as np\n",
        "from PIL import Image\n",
        "from scipy.fftpack import dct, idct\n",
        "from google.colab import files\n",
        "import io\n",
        "from skimage.metrics import structural_similarity as ssim\n",
        "\n",
        "# Tải ảnh từ máy\n",
        "def upload_image():\n",
        "    uploaded = files.upload()\n",
        "    for filename in uploaded.keys():\n",
        "        return filename\n",
        "\n",
        "# Đọc ảnh\n",
        "def load_image(filename):\n",
        "    image = Image.open(filename).convert('L') # Chuyển thành grayscale\n",
        "    return np.array(image)"
      ],
      "metadata": {
        "id": "EncAjEVZlUM2"
      },
      "execution_count": null,
      "outputs": []
    },
    {
      "cell_type": "code",
      "source": [
        "# Chia ảnh thành các khối 8x8 và thêm padding\n",
        "def split_into_blocks(image, block_size):\n",
        "  height, width = image.shape\n",
        "  pad_height = (block_size - height % block_size) % block_size\n",
        "  pad_width = (block_size - width % block_size) % block_size\n",
        "  padded_image = np.pad(image, ((0, pad_height), (0, pad_width)), mode='constant')\n",
        "\n",
        "  height, width = padded_image.shape\n",
        "  blocks = [padded_image[i:i+block_size, j:j+block_size] for i in range(0, height, block_size) for j in range(0, width, block_size)]\n",
        "  return blocks, padded_image, (height-pad_height,width-pad_width)"
      ],
      "metadata": {
        "id": "eXEVMob5oVVl"
      },
      "execution_count": null,
      "outputs": []
    },
    {
      "cell_type": "code",
      "source": [
        "# Áp dụng DCT\n",
        "def apply_dct(image):\n",
        "    return dct(dct(image.T, norm='ortho').T, norm='ortho')\n",
        "\n",
        "# Áp dụng IDCT\n",
        "def apply_idct(image):\n",
        "    return idct(idct(image.T, norm='ortho').T, norm='ortho')"
      ],
      "metadata": {
        "id": "c4VtvgAdmL8O"
      },
      "execution_count": null,
      "outputs": []
    },
    {
      "cell_type": "code",
      "source": [
        "# Lượng tử hóa\n",
        "def quantize(dct_block, quantization_matrix):\n",
        "    return np.round(dct_block / quantization_matrix)\n",
        "\n",
        "# Phân loại\n",
        "def dequantize(quantized_block, quantization_matrix):\n",
        "    return quantized_block * quantization_matrix"
      ],
      "metadata": {
        "id": "ObpHgbLVoDyf"
      },
      "execution_count": null,
      "outputs": []
    },
    {
      "cell_type": "code",
      "source": [
        "# Mã hóa và giải mã (Huffman)\n",
        "def encode_block(block):\n",
        "  return block.flatten()\n",
        "\n",
        "def decode_block(encoded_block, block_size):\n",
        "  return encoded_block.reshape(block_size, block_size)"
      ],
      "metadata": {
        "id": "zhaRxA2hqMz0"
      },
      "execution_count": null,
      "outputs": []
    },
    {
      "cell_type": "code",
      "source": [
        "# Ghép lại các khối thành ảnh\n",
        "def combine_blocks(blocks, image_shape, block_size):\n",
        "  height, width = image_shape\n",
        "  image = np.zeros((height, width))\n",
        "  block_idx = 0\n",
        "  for i in range(0, height, block_size):\n",
        "    for j in range(0, width, block_size):\n",
        "      image[i:i+block_size, j:j+block_size] = blocks[block_idx]\n",
        "      block_idx += 1\n",
        "  return np.clip(image, 0, 255).astype(np.uint8)\n"
      ],
      "metadata": {
        "id": "g9Warw1Mrfnq"
      },
      "execution_count": null,
      "outputs": []
    },
    {
      "cell_type": "code",
      "source": [
        "# Cắt bỏ padding\n",
        "def remove_padding(image, original_shape):\n",
        "  return image[:original_shape[0], :original_shape[1]]"
      ],
      "metadata": {
        "id": "Th05wIuYtrg6"
      },
      "execution_count": null,
      "outputs": []
    },
    {
      "cell_type": "code",
      "source": [
        "# Tính PSNR\n",
        "def calculate_psnr(original_image, compressed_image):\n",
        "  mse = np.mean((original_image - compressed_image) **2)\n",
        "  if mse == 0:\n",
        "    return float('inf')\n",
        "  max_pixel = 255.0\n",
        "  psnr = 20 * np.log10(max_pixel / np.sqrt(mse))\n",
        "  return psnr\n",
        "# Tính MSE\n",
        "def calculate_mse(original_image, compressed_image):\n",
        "  return np.mean((original_image - compressed_image) ** 2)\n",
        "# Tính SSIM\n",
        "def calculate_ssim(original_image, compressed_image):\n",
        "  return ssim(original_image, compressed_image)"
      ],
      "metadata": {
        "id": "qQuJfdbCuYWz"
      },
      "execution_count": null,
      "outputs": []
    },
    {
      "cell_type": "code",
      "source": [
        "# Tải ảnh từ máy lên Colab\n",
        "filename = upload_image()\n",
        "image = load_image(filename)"
      ],
      "metadata": {
        "colab": {
          "base_uri": "https://localhost:8080/",
          "height": 73
        },
        "id": "JS3eqvnqvJo2",
        "outputId": "89afa21a-a32a-43b3-89c7-3a5327e7f7ac"
      },
      "execution_count": null,
      "outputs": [
        {
          "output_type": "display_data",
          "data": {
            "text/plain": [
              "<IPython.core.display.HTML object>"
            ],
            "text/html": [
              "\n",
              "     <input type=\"file\" id=\"files-39c78d36-bfea-4b50-b10a-7caff7d74643\" name=\"files[]\" multiple disabled\n",
              "        style=\"border:none\" />\n",
              "     <output id=\"result-39c78d36-bfea-4b50-b10a-7caff7d74643\">\n",
              "      Upload widget is only available when the cell has been executed in the\n",
              "      current browser session. Please rerun this cell to enable.\n",
              "      </output>\n",
              "      <script>// Copyright 2017 Google LLC\n",
              "//\n",
              "// Licensed under the Apache License, Version 2.0 (the \"License\");\n",
              "// you may not use this file except in compliance with the License.\n",
              "// You may obtain a copy of the License at\n",
              "//\n",
              "//      http://www.apache.org/licenses/LICENSE-2.0\n",
              "//\n",
              "// Unless required by applicable law or agreed to in writing, software\n",
              "// distributed under the License is distributed on an \"AS IS\" BASIS,\n",
              "// WITHOUT WARRANTIES OR CONDITIONS OF ANY KIND, either express or implied.\n",
              "// See the License for the specific language governing permissions and\n",
              "// limitations under the License.\n",
              "\n",
              "/**\n",
              " * @fileoverview Helpers for google.colab Python module.\n",
              " */\n",
              "(function(scope) {\n",
              "function span(text, styleAttributes = {}) {\n",
              "  const element = document.createElement('span');\n",
              "  element.textContent = text;\n",
              "  for (const key of Object.keys(styleAttributes)) {\n",
              "    element.style[key] = styleAttributes[key];\n",
              "  }\n",
              "  return element;\n",
              "}\n",
              "\n",
              "// Max number of bytes which will be uploaded at a time.\n",
              "const MAX_PAYLOAD_SIZE = 100 * 1024;\n",
              "\n",
              "function _uploadFiles(inputId, outputId) {\n",
              "  const steps = uploadFilesStep(inputId, outputId);\n",
              "  const outputElement = document.getElementById(outputId);\n",
              "  // Cache steps on the outputElement to make it available for the next call\n",
              "  // to uploadFilesContinue from Python.\n",
              "  outputElement.steps = steps;\n",
              "\n",
              "  return _uploadFilesContinue(outputId);\n",
              "}\n",
              "\n",
              "// This is roughly an async generator (not supported in the browser yet),\n",
              "// where there are multiple asynchronous steps and the Python side is going\n",
              "// to poll for completion of each step.\n",
              "// This uses a Promise to block the python side on completion of each step,\n",
              "// then passes the result of the previous step as the input to the next step.\n",
              "function _uploadFilesContinue(outputId) {\n",
              "  const outputElement = document.getElementById(outputId);\n",
              "  const steps = outputElement.steps;\n",
              "\n",
              "  const next = steps.next(outputElement.lastPromiseValue);\n",
              "  return Promise.resolve(next.value.promise).then((value) => {\n",
              "    // Cache the last promise value to make it available to the next\n",
              "    // step of the generator.\n",
              "    outputElement.lastPromiseValue = value;\n",
              "    return next.value.response;\n",
              "  });\n",
              "}\n",
              "\n",
              "/**\n",
              " * Generator function which is called between each async step of the upload\n",
              " * process.\n",
              " * @param {string} inputId Element ID of the input file picker element.\n",
              " * @param {string} outputId Element ID of the output display.\n",
              " * @return {!Iterable<!Object>} Iterable of next steps.\n",
              " */\n",
              "function* uploadFilesStep(inputId, outputId) {\n",
              "  const inputElement = document.getElementById(inputId);\n",
              "  inputElement.disabled = false;\n",
              "\n",
              "  const outputElement = document.getElementById(outputId);\n",
              "  outputElement.innerHTML = '';\n",
              "\n",
              "  const pickedPromise = new Promise((resolve) => {\n",
              "    inputElement.addEventListener('change', (e) => {\n",
              "      resolve(e.target.files);\n",
              "    });\n",
              "  });\n",
              "\n",
              "  const cancel = document.createElement('button');\n",
              "  inputElement.parentElement.appendChild(cancel);\n",
              "  cancel.textContent = 'Cancel upload';\n",
              "  const cancelPromise = new Promise((resolve) => {\n",
              "    cancel.onclick = () => {\n",
              "      resolve(null);\n",
              "    };\n",
              "  });\n",
              "\n",
              "  // Wait for the user to pick the files.\n",
              "  const files = yield {\n",
              "    promise: Promise.race([pickedPromise, cancelPromise]),\n",
              "    response: {\n",
              "      action: 'starting',\n",
              "    }\n",
              "  };\n",
              "\n",
              "  cancel.remove();\n",
              "\n",
              "  // Disable the input element since further picks are not allowed.\n",
              "  inputElement.disabled = true;\n",
              "\n",
              "  if (!files) {\n",
              "    return {\n",
              "      response: {\n",
              "        action: 'complete',\n",
              "      }\n",
              "    };\n",
              "  }\n",
              "\n",
              "  for (const file of files) {\n",
              "    const li = document.createElement('li');\n",
              "    li.append(span(file.name, {fontWeight: 'bold'}));\n",
              "    li.append(span(\n",
              "        `(${file.type || 'n/a'}) - ${file.size} bytes, ` +\n",
              "        `last modified: ${\n",
              "            file.lastModifiedDate ? file.lastModifiedDate.toLocaleDateString() :\n",
              "                                    'n/a'} - `));\n",
              "    const percent = span('0% done');\n",
              "    li.appendChild(percent);\n",
              "\n",
              "    outputElement.appendChild(li);\n",
              "\n",
              "    const fileDataPromise = new Promise((resolve) => {\n",
              "      const reader = new FileReader();\n",
              "      reader.onload = (e) => {\n",
              "        resolve(e.target.result);\n",
              "      };\n",
              "      reader.readAsArrayBuffer(file);\n",
              "    });\n",
              "    // Wait for the data to be ready.\n",
              "    let fileData = yield {\n",
              "      promise: fileDataPromise,\n",
              "      response: {\n",
              "        action: 'continue',\n",
              "      }\n",
              "    };\n",
              "\n",
              "    // Use a chunked sending to avoid message size limits. See b/62115660.\n",
              "    let position = 0;\n",
              "    do {\n",
              "      const length = Math.min(fileData.byteLength - position, MAX_PAYLOAD_SIZE);\n",
              "      const chunk = new Uint8Array(fileData, position, length);\n",
              "      position += length;\n",
              "\n",
              "      const base64 = btoa(String.fromCharCode.apply(null, chunk));\n",
              "      yield {\n",
              "        response: {\n",
              "          action: 'append',\n",
              "          file: file.name,\n",
              "          data: base64,\n",
              "        },\n",
              "      };\n",
              "\n",
              "      let percentDone = fileData.byteLength === 0 ?\n",
              "          100 :\n",
              "          Math.round((position / fileData.byteLength) * 100);\n",
              "      percent.textContent = `${percentDone}% done`;\n",
              "\n",
              "    } while (position < fileData.byteLength);\n",
              "  }\n",
              "\n",
              "  // All done.\n",
              "  yield {\n",
              "    response: {\n",
              "      action: 'complete',\n",
              "    }\n",
              "  };\n",
              "}\n",
              "\n",
              "scope.google = scope.google || {};\n",
              "scope.google.colab = scope.google.colab || {};\n",
              "scope.google.colab._files = {\n",
              "  _uploadFiles,\n",
              "  _uploadFilesContinue,\n",
              "};\n",
              "})(self);\n",
              "</script> "
            ]
          },
          "metadata": {}
        },
        {
          "output_type": "stream",
          "name": "stdout",
          "text": [
            "Saving E6TKzqA.jpg to E6TKzqA.jpg\n"
          ]
        }
      ]
    },
    {
      "cell_type": "code",
      "source": [
        "# Chia ảnh thành các khối 8x8\n",
        "block_size = 8\n",
        "blocks, padded_image, original_shape = split_into_blocks(image, block_size)\n",
        "# Bảng lượng tử hóa đơn giản\n",
        "quantization_matrix = np.ones((8,8))*10\n",
        "# Nén ảnh\n",
        "compressed_blocks = []\n",
        "for block in blocks:\n",
        "  dct_block = apply_dct(block)\n",
        "  quantized_block = quantize(dct_block, quantization_matrix)\n",
        "  encoded_block = encode_block(quantized_block)\n",
        "  compressed_blocks.append(encoded_block)\n",
        "# Giải nén ảnh\n",
        "decompressed_blocks = []\n",
        "for encoded_block in compressed_blocks:\n",
        "  quantized_block = decode_block(encoded_block, block_size)\n",
        "  dequantized_block = dequantize(quantized_block, quantization_matrix)\n",
        "  idct_block = apply_idct(dequantized_block)\n",
        "  decompressed_blocks.append(idct_block)\n",
        "# Tạo ảnh từ các khối giải nén\n",
        "decompressed_image = combine_blocks(decompressed_blocks, original_shape, 8)\n",
        "# Cắt bỏ padding\n",
        "decompressed_image = remove_padding(decompressed_image, original_shape)\n",
        "# Lưu ảnh giải nén\n",
        "output_path = \"dec.jpg\"\n",
        "Image.fromarray(decompressed_image).save(output_path)"
      ],
      "metadata": {
        "id": "9XwOsXvcvnS1"
      },
      "execution_count": null,
      "outputs": []
    },
    {
      "cell_type": "code",
      "source": [
        "# Tính thông số ảnh đầu vào\n",
        "print(\"Thông số ảnh đầu vào:\")\n",
        "print(\"Kích thước ảnh:\", image.shape)"
      ],
      "metadata": {
        "colab": {
          "base_uri": "https://localhost:8080/"
        },
        "id": "T4EpGdFC1xvF",
        "outputId": "bc120bba-b0d3-43cb-c917-e6f7c97ec610"
      },
      "execution_count": null,
      "outputs": [
        {
          "output_type": "stream",
          "name": "stdout",
          "text": [
            "Thông số ảnh đầu vào:\n",
            "Kích thước ảnh: (1080, 1920)\n"
          ]
        }
      ]
    }
  ]
}